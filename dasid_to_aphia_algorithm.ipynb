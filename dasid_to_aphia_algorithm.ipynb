{
 "cells": [
  {
   "cell_type": "code",
   "execution_count": null,
   "metadata": {},
   "outputs": [
    {
     "ename": "",
     "evalue": "",
     "output_type": "error",
     "traceback": [
      "\u001b[1;31mRunning cells with 'Python 3.8.2 64-bit' requires ipykernel package.\n",
      "Run the following command to install 'ipykernel' into the Python environment. \n",
      "Command: 'c:/Users/cedricd/AppData/Local/Programs/Python/Python38/python.exe -m pip install ipykernel -U --user --force-reinstall'"
     ]
    }
   ],
   "source": [
    "#imports\n",
    "import json \n",
    "import ast\n",
    "import pandas as pd\n",
    "import numpy as np\n",
    "import time\n",
    "import requests\n",
    "import plotly\n",
    "import plotly.express as px\n",
    "print(plotly.__version__)\n",
    "import ipykernel"
   ]
  },
  {
   "cell_type": "code",
   "execution_count": null,
   "metadata": {},
   "outputs": [
    {
     "ename": "",
     "evalue": "",
     "output_type": "error",
     "traceback": [
      "\u001b[1;31mRunning cells with 'Python 3.8.2 64-bit' requires ipykernel package.\n",
      "Run the following command to install 'ipykernel' into the Python environment. \n",
      "Command: 'c:/Users/cedricd/AppData/Local/Programs/Python/Python38/python.exe -m pip install ipykernel -U --user --force-reinstall'"
     ]
    }
   ],
   "source": [
    "# cache section so when i run code below that is doesn't take forever\n",
    "refresh_cache = False\n",
    "all_dasid_data = {}"
   ]
  },
  {
   "cell_type": "code",
   "execution_count": null,
   "metadata": {},
   "outputs": [
    {
     "ename": "",
     "evalue": "",
     "output_type": "error",
     "traceback": [
      "\u001b[1;31mRunning cells with 'Python 3.8.2 64-bit' requires ipykernel package.\n",
      "Run the following command to install 'ipykernel' into the Python environment. \n",
      "Command: 'c:/Users/cedricd/AppData/Local/Programs/Python/Python38/python.exe -m pip install ipykernel -U --user --force-reinstall'"
     ]
    }
   ],
   "source": [
    "#parameters for the algorithm\n",
    "\n",
    "#nodes to get from the json files\n",
    "nodes = 150 \n",
    "#minimum rank of taxonomy to be included in the graph\n",
    "min_rank = 'species'\n",
    "#maximum rank of taxonomy to be included in the graph\n",
    "max_rank = 'kingdom'\n",
    "#% covered of the species in the original list of taxamonyms\n",
    "covered_percentage = 1 #100% = 1 / 50% = 0.5\n",
    "#qualified ranks of taxonomy to be included from aphia => default == accepted\n",
    "qualified_ranks = 'accepted'"
   ]
  },
  {
   "cell_type": "code",
   "execution_count": null,
   "metadata": {},
   "outputs": [
    {
     "name": "stdout",
     "output_type": "stream",
     "text": [
      "(1017, 2)\n"
     ]
    },
    {
     "ename": "",
     "evalue": "",
     "output_type": "error",
     "traceback": [
      "\u001b[1;31mRunning cells with 'Python 3.8.2 64-bit' requires ipykernel package.\n",
      "Run the following command to install 'ipykernel' into the Python environment. \n",
      "Command: 'c:/Users/cedricd/AppData/Local/Programs/Python/Python38/python.exe -m pip install ipykernel -U --user --force-reinstall'"
     ]
    }
   ],
   "source": [
    "#read in the data from the csv file with pandas\n",
    "\n",
    "df = pd.read_csv('aphia_ids_to_imis.csv')\n",
    "#print the dimentions of the dataframe\n",
    "print(df.shape)"
   ]
  },
  {
   "cell_type": "code",
   "execution_count": null,
   "metadata": {},
   "outputs": [
    {
     "name": "stdout",
     "output_type": "stream",
     "text": [
      "{4221: [118852, 102101, 130926, 130537, 130357, 141595, 339374, 110398, 140480, 141579, 140380, 138998, 155177, 140126, 131187, 129876, 107552, 141424, 102317, 101742, 107381, 131177, 131495, 130359, 120020, 120206, 130491, 147474, 2036, 141134, 152438, 339379, 131170, 101361, 103073, 129379, 130272, 130404, 130616, 103068, 129884, 140430, 129868, 129370, 238384, 110487], 5609: [107380, 127160, 127141, 126977, 231748, 107552, 125999, 107032, 125546, 126281, 126426, 272027, 126975, 126942, 141444, 126425], 6451: [110483, 152249, 146950, 506128, 140032, 130623, 125579, 152217, 101669, 100982, 131135, 111659, 1609, 111367, 712167, 129781, 799, 140627, 534781, 101981, 131321, 985, 140103, 130491, 931, 130523, 150520, 123776, 102720, 101489, 134599, 10194, 101930, 138223, 129710, 757970, 102036, 130131, 130738, 119898, 131170, 131193, 102611, 834002, 130128, 836020, 102408, 506025, 445590, 196385, 1564, 130616, 130722, 327985, 130407, 152316, 1130, 131074, 110467, 141433, 107742, 196003, 131180, 130613, 103228, 141690, 130578, 117228, 131543, 111669, 101891, 111878, 117909, 140199, 111354, 130375, 710680, 2, 130266, 117093, 107418, 130979, 105, 138802, 140405, 211, 123574, 140431, 103909, 107739, 140302, 136340, 130452, 130867, 111540, 137571, 102383, 117382, 140588, 131116, 101361, 118278, 129347, 102932, 125537, 129659, 111351, 140299, 139965, 103443, 111495, 146761, 140283, 129443, 123426, 139476, 236719, 102347, 141912, 129357, 138474, 130963, 111730, 982, 138998, 102367, 131106, 107302, 147021, 131183, 118995, 111421, 137349, 1268, 130041, 136135, 138760, 124319, 107273, 131077, 130353, 107479, 141883, 138159, 129938, 130330, 131495, 101734, 107276, 129906, 152448, 102916, 157583, 130195, 214, 131575, 117234, 107347, 558, 111020, 138339, 131100, 158351, 130359, 101933, 141767, 103788, 102377, 100880, 124670, 130103, 102798, 103058, 124850, 102351, 131073, 118218, 143691, 1762, 140462, 946, 107647, 130100, 110535, 102168, 125477, 134723, 117402, 103791, 111268, 130601, 152367, 107152, 129528, 111374, 981, 130604, 102795, 107232, 107518, 101567, 129785, 141908, 129370, 149668, 111795, 101908, 110481, 880017, 107155, 238198, 130707, 130967, 123456, 102345, 213, 102139, 1839, 130363, 923, 129155, 118086, 1100, 141320, 140301, 204, 111602, 555935, 123613, 103235, 107486, 124635, 140218, 101, 130537, 137570, 1360, 140687, 140584, 138878, 965, 266489, 129804, 131009, 868065, 128539, 107557, 988, 131327, 345281, 129595, 101898, 103759, 130749, 130357, 111496, 128545, 141741, 141134, 111676, 130116, 123083, 103029, 117890, 833990, 130980, 146532, 107322, 130977, 141651, 101445, 141365, 110445, 111355, 131160, 152248, 102364, 130662, 111249, 130974, 130270, 129955, 138823, 102570, 117386, 130948, 141799, 112299, 111091, 106477, 236495, 130636, 138582, 111721, 1820, 107473, 139604, 131157, 111011, 130762, 141436, 139106, 136063, 107007, 130794, 117913, 101471, 102788, 129884, 131507, 107319, 129778, 101368, 107239, 130585, 123160, 117103, 149, 105410, 111361, 136041, 100684, 138675, 101864, 151894, 110440, 1080, 181343, 111147, 140201, 130248, 122637, 118990, 131127, 129959, 103882, 140590, 110414, 334510, 107506, 130271, 117258, 125333, 102831, 333456, 834039, 103853, 107188, 140461, 141872, 111719, 131178, 111304, 131072, 101025, 117364, 106057, 130136, 123206, 123106, 138543, 129953, 118855, 102963, 131490, 129220, 138549, 130322, 107079, 137582, 107323, 141644, 147154, 131185, 129856, 106905, 141435, 140728, 117914, 130801, 607402, 129776, 102972, 154127, 742232, 107217, 125073, 122348, 131153, 130123, 102918, 123084, 129805, 139523, 110472, 1135, 111079, 834020, 111600, 111285, 129914, 129943, 102346, 136037, 130126, 101931, 106777, 145, 130624, 131188, 138636, 147026, 128549, 107072, 129840, 129625, 140577, 137916, 1337, 129898, 22496, 246148, 111690, 156376, 140432, 131169, 141033, 111796, 283798, 106738, 130711, 130113, 118437, 593521, 130316, 111484, 332932, 138228, 130920, 127219, 250081, 939, 135789, 146907, 834010, 131143, 119822, 126792, 107551, 919, 118216, 124465, 798770, 117824, 139012, 103509, 131458, 129892, 117804, 131715, 140082, 107387, 124462, 110851, 107313, 107651, 129789, 129837, 131500, 130544, 101928, 101742, 136458, 138379, 131117, 140291, 146952, 130075, 106889, 205077, 138691, 140365, 110398, 131394, 130888, 103792, 879714, 152276, 1070, 424332, 130467, 101857, 236130, 129475, 103060, 110829, 102960, 103166, 107729, 102748, 130763, 102064, 111032, 150534, 125064, 101958, 1137, 131573, 130683, 129240, 129346, 130577, 103066, 468026, 336485, 131290, 130294, 129876, 131107, 111061, 157828, 131187, 1297885, 117195, 106215, 111745, 845529, 106925, 117702, 152269, 130268, 111250, 137739, 101466, 130500, 117015, 130185, 209899, 117233, 111196, 424440, 130921, 141707, 107552, 124392, 102915, 107054, 124913, 137954, 132026, 129851, 876825, 129957, 103044, 118467, 129430, 140737, 883, 111202, 103439, 411874, 136486, 129433, 130644, 131534, 130641, 130037, 130352, 111597, 130140, 130564, 129359, 152250, 110627, 130355, 130770, 130982, 131171, 107218, 140033, 140640, 107301, 129671, 111125, 102057, 938, 126754, 129777, 139410, 1606, 106257, 793, 141929, 130130, 560033, 571832, 2104, 152314, 847930, 131544, 129944, 138992, 124273, 111186, 334506, 140589, 131415, 124929, 129211, 102012, 138288, 130599, 102928, 107150, 745846, 152391, 138388, 140300, 146469, 111604, 117940, 130673, 130696, 101977, 131489, 131174, 125080, 140480, 107722, 138751, 111054, 138748, 106122, 179538, 138963, 129491, 130198, 129680, 118917, 130278, 147006, 131168, 117368, 125131, 141662, 101871], 6575: [22832, 126484], 7890: [494069, 115088, 248069, 235961, 156505, 232546, 157463, 235923, 109889, 109921, 232703, 109603, 148967, 841260, 149629, 708245, 764850, 236058, 149208, 149314, 567049, 376361, 842517, 109526, 149028, 163249, 235846, 235926, 149131, 149022, 596169, 109475, 149134, 109555, 109507, 1381154, 149060, 118051, 418646, 555889, 110082, 178598, 109693, 837460, 149092, 110297, 841193, 115075, 149619, 149221, 149118, 149616, 967041, 840627, 109571, 109542, 163262, 109992, 603344, 149150, 156598, 156621, 115104, 149356, 149044, 160554, 163233, 109462, 149038, 573880, 149015, 235839, 109545, 109463, 149191, 109569, 626382, 160563, 110015, 164053, 148899, 149111, 196828, 109466, 148905, 110202, 248089, 562641, 292726, 110099, 837451, 160595, 624358, 248063, 149310, 149230, 149516, 109662, 148912, 841248, 841746, 149018, 109559, 110295, 149313, 573858, 837075, 232376, 149130, 134526, 573543, 236100, 149342, 149236, 110115, 163248, 134529, 17329, 376667, 157240, 110041, 235859, 375970, 149387, 149069, 231788, 109527, 163161, 148989, 148963, 109713, 841261, 110208, 494057, 232598, 156617, 115057, 149538, 232492, 146232, 156623, 160553, 115086, 149292, 157258, 602985, 248081, 345513, 157052, 109564, 248058, 17639, 110039, 149186, 109856, 109458, 149132, 149003, 115126, 149055, 179786, 157081, 109487, 232625, 615435, 5, 115081, 146542, 232516, 235851, 162254, 233592, 163250, 465390, 235842, 146230, 157431, 149167, 109519, 110303, 149241, 149135, 110097, 109474, 149122, 375788, 248074, 341500, 841263, 149116, 235848, 837453, 157059, 134566, 599640, 115084, 149042, 837459, 172460, 109612, 235829, 149151, 163137, 149013, 110316, 148942, 149148, 802, 149045, 148971, 1474876, 149177, 146163, 248129, 109718, 109638, 109528, 110321, 109717, 699623, 656612, 149142, 110035, 837227, 232110, 149139, 235966, 149200, 19542, 110305, 136903, 109515, 178185, 163257, 233868, 553584, 148985, 582177, 149168, 233161, 109566, 1310442, 235934, 115090, 246608, 149213, 109508, 25, 149322, 235828, 162518, 149110, 345491, 235802, 233180, 149004, 119077, 160594, 109920, 249725, 178201, 232261, 109470, 235979, 248096, 109473, 495363, 418509, 841259, 110257, 248064, 109476, 110154, 162740, 109550, 149129, 840626, 110045, 149123, 109553, 109859, 115083, 163344, 235841, 149023, 157072, 109624, 110122, 109627, 149120, 235924, 149335, 235944, 149126, 149309, 148917, 149647], 7971: [137111], 7972: [135263, 137217, 135279, 135305, 106401, 135304, 135297, 106398, 135299]}\n"
     ]
    },
    {
     "ename": "",
     "evalue": "",
     "output_type": "error",
     "traceback": [
      "\u001b[1;31mRunning cells with 'Python 3.8.2 64-bit' requires ipykernel package.\n",
      "Run the following command to install 'ipykernel' into the Python environment. \n",
      "Command: 'c:/Users/cedricd/AppData/Local/Programs/Python/Python38/python.exe -m pip install ipykernel -U --user --force-reinstall'"
     ]
    }
   ],
   "source": [
    "# make child dataframes based on the parent dataframe \n",
    "children = {}\n",
    "#get the different values that are present in the first column of the dataframe\n",
    "diff_dasids = df['IMIS_DasID'].unique()\n",
    "\n",
    "#loop over the different dasids and make a list of all the aphia_ids that are associated with that dasid\n",
    "for dasid in diff_dasids:\n",
    "    children[dasid] = df[df['IMIS_DasID'] == dasid]['aphia_id'].tolist()\n",
    "\n",
    "#print the children dataframess\n",
    "print(children)"
   ]
  },
  {
   "cell_type": "code",
   "execution_count": null,
   "metadata": {},
   "outputs": [
    {
     "ename": "",
     "evalue": "",
     "output_type": "error",
     "traceback": [
      "\u001b[1;31mRunning cells with 'Python 3.8.2 64-bit' requires ipykernel package.\n",
      "Run the following command to install 'ipykernel' into the Python environment. \n",
      "Command: 'c:/Users/cedricd/AppData/Local/Programs/Python/Python38/python.exe -m pip install ipykernel -U --user --force-reinstall'"
     ]
    }
   ],
   "source": [
    "#make requests to the aphia api to get the taxonomy of the aphia_ids\n",
    "if refresh_cache:\n",
    "    for dasid, aphia_ids in children.items():\n",
    "        print(f\"beginning search on dasid: {dasid}\")\n",
    "        length_aphia_ids = len(aphia_ids)\n",
    "        i = 1\n",
    "        covered_percentage = 0\n",
    "        for aphia_id in aphia_ids:\n",
    "            #get percentge of the aphia_ids that are covered (i/length_aphia_ids)*100, if the percentage is higher than the covered_percentage, then print message\n",
    "            percentage_covered = (i/length_aphia_ids)*100\n",
    "            i=i+1\n",
    "            if percentage_covered > covered_percentage:\n",
    "                print(f\"{dasid} | {percentage_covered}'%' done | {i}/{length_aphia_ids}\")\n",
    "                covered_percentage = covered_percentage + 10\n",
    "            if i % 50 == 0:\n",
    "                print(f\"{dasid} | {percentage_covered}'%' done | {i}/{length_aphia_ids}\")\n",
    "            #check if the aphia_id is in the cache\n",
    "            try:\n",
    "                if aphia_id in all_dasid_data[dasid]:\n",
    "                    pass\n",
    "                else:\n",
    "                    url_to_request = 'https://www.marinespecies.org/rest/AphiaClassificationByAphiaID/' + str(aphia_id)\n",
    "                    aphia_id_data = requests.get(url_to_request).json()\n",
    "                    all_dasid_data[dasid][aphia_id] = aphia_id_data\n",
    "                    time.sleep(1.5)\n",
    "            except:\n",
    "                all_dasid_data[dasid] = {}\n",
    "                url_to_request = 'https://www.marinespecies.org/rest/AphiaClassificationByAphiaID/' + str(aphia_id)\n",
    "                aphia_id_data = requests.get(url_to_request).json()\n",
    "                all_dasid_data[dasid][aphia_id] = aphia_id_data\n",
    "                time.sleep(1.5)\n",
    "        \n",
    "        #write the data to a json file\n",
    "        # Directly from dictionary\n",
    "        utf_8_encoded_dict_encoded= {str(k).encode(\"utf-8\"): str(v).encode(\"utf-8\") for k,v in all_dasid_data.items()}\n",
    "        utf_8_encoded_dict = {k.decode(\"utf-8\"): v.decode(\"utf-8\") for k,v in utf_8_encoded_dict_encoded.items()}\n",
    "        new_dict = {}\n",
    "        for key, value in utf_8_encoded_dict.items():\n",
    "            new_dict[key] = ast.literal_eval(value.replace(\"'\", \"\\\"\"))\n",
    "        with open('json_data_aphia_ids.json', 'w') as outfile:\n",
    "            json.dump(new_dict, outfile)\n"
   ]
  },
  {
   "cell_type": "code",
   "execution_count": null,
   "metadata": {},
   "outputs": [
    {
     "name": "stdout",
     "output_type": "stream",
     "text": [
      "['4221', '5609', '6451', '6575', '7890', '7971', '7972']\n",
      " dasid: 4221 | unique aphia_ids: 253\n",
      " dasid: 5609 | unique aphia_ids: 109\n",
      " dasid: 6451 | unique aphia_ids: 2290\n",
      " dasid: 6575 | unique aphia_ids: 26\n",
      " dasid: 7890 | unique aphia_ids: 858\n",
      " dasid: 7971 | unique aphia_ids: 16\n",
      " dasid: 7972 | unique aphia_ids: 53\n"
     ]
    },
    {
     "ename": "",
     "evalue": "",
     "output_type": "error",
     "traceback": [
      "\u001b[1;31mRunning cells with 'Python 3.8.2 64-bit' requires ipykernel package.\n",
      "Run the following command to install 'ipykernel' into the Python environment. \n",
      "Command: 'c:/Users/cedricd/AppData/Local/Programs/Python/Python38/python.exe -m pip install ipykernel -U --user --force-reinstall'"
     ]
    }
   ],
   "source": [
    "#read in the data from the json file\n",
    "f = open('json_data_aphia_ids.json', 'r')\n",
    "data = json.load(f)\n",
    "\n",
    "dasids = list(data.keys())\n",
    "print(dasids)\n",
    "\n",
    "def check_dict_aphia_id(checkvalue, array_aphia_ids, parent_aphia_id, character, value_dict, parent_aphia_ids):\n",
    "    #check if checkvalue is of type dict\n",
    "    if isinstance(checkvalue, dict):\n",
    "        #check if there is a key named 'AphiaID'\n",
    "        for key, value in checkvalue.items():\n",
    "            if key == 'AphiaID':\n",
    "                array_aphia_ids.append(value)\n",
    "                #check if the value is already in charcter array and if not, add it and append 1 to value array | if yes find the index of the value in the array and add 1 to the value array\n",
    "                if value in character:\n",
    "                    index = character.index(value)\n",
    "                    value_dict[index] = value_dict[index] + 1\n",
    "                else:\n",
    "                    character.append(value)\n",
    "                    value_dict.append(1)\n",
    "                    parent_aphia_ids.append(parent_aphia_id)\n",
    "            if key == 'child':\n",
    "                check_dict_aphia_id(value, array_aphia_ids, parent_aphia_id=checkvalue[\"AphiaID\"], character= character, value_dict = value_dict, parent_aphia_ids = parent_aphia_ids)\n",
    "    return array_aphia_ids\n",
    "\n",
    "#get all aphia_ids from each dasid\n",
    "dasids_unique_aphia_ids = {}\n",
    "sunburst_chart_data_dasids = {}\n",
    "\n",
    "for dasid in dasids:\n",
    "    all_aphia_ids = []\n",
    "    parent_aphia_ids = []\n",
    "    character = []\n",
    "    value_dict = []\n",
    "    data_dasid = data[dasid]\n",
    "    for aphia_id , value_aphia_id in data_dasid.items():\n",
    "        all_aphia_ids.append(aphia_id)\n",
    "        toappend_later_aphia_ids = []\n",
    "        check_dict_aphia_id(value_aphia_id, toappend_later_aphia_ids, \"\", character=character, value_dict=value_dict, parent_aphia_ids=parent_aphia_ids)\n",
    "        for id_aphia in toappend_later_aphia_ids:\n",
    "            all_aphia_ids.append(id_aphia)\n",
    "    #get unique values of all_aphia_ids\n",
    "    unique_aphia_ids = list(set(all_aphia_ids))\n",
    "    print(f\" dasid: {dasid} | unique aphia_ids: {len(unique_aphia_ids)}\")\n",
    "    dasids_unique_aphia_ids[dasid] = unique_aphia_ids\n",
    "    sunburst_chart_data_dasids[dasid] = {'character': character, 'value': value_dict, 'parent_aphia_ids': parent_aphia_ids}\n",
    "        #check if value_aphia_id as child property that is of type dict => if true then check in the keys of the dict if there is an aphia id and then add it + check if there is a child in the dict"
   ]
  },
  {
   "cell_type": "code",
   "execution_count": null,
   "metadata": {},
   "outputs": [
    {
     "ename": "AttributeError",
     "evalue": "module 'plotly.express' has no attribute 'sunburst'",
     "output_type": "error",
     "traceback": [
      "\u001b[1;31m---------------------------------------------------------------------------\u001b[0m",
      "\u001b[1;31mAttributeError\u001b[0m                            Traceback (most recent call last)",
      "\u001b[1;32m~\\AppData\\Local\\Temp\\ipykernel_21772\\2867771819.py\u001b[0m in \u001b[0;36m<module>\u001b[1;34m\u001b[0m\n\u001b[0;32m      6\u001b[0m \u001b[1;33m\u001b[0m\u001b[0m\n\u001b[0;32m      7\u001b[0m \u001b[1;32mfor\u001b[0m \u001b[0mdasid\u001b[0m\u001b[1;33m,\u001b[0m \u001b[0msb_data\u001b[0m \u001b[1;32min\u001b[0m \u001b[0msunburst_chart_data_dasids\u001b[0m\u001b[1;33m.\u001b[0m\u001b[0mitems\u001b[0m\u001b[1;33m(\u001b[0m\u001b[1;33m)\u001b[0m\u001b[1;33m:\u001b[0m\u001b[1;33m\u001b[0m\u001b[1;33m\u001b[0m\u001b[0m\n\u001b[1;32m----> 8\u001b[1;33m     fig = px.sunburst(\n\u001b[0m\u001b[0;32m      9\u001b[0m         \u001b[0msb_data\u001b[0m\u001b[1;33m,\u001b[0m\u001b[1;33m\u001b[0m\u001b[1;33m\u001b[0m\u001b[0m\n\u001b[0;32m     10\u001b[0m         \u001b[0mnames\u001b[0m\u001b[1;33m=\u001b[0m\u001b[1;34m'character'\u001b[0m\u001b[1;33m,\u001b[0m\u001b[1;33m\u001b[0m\u001b[1;33m\u001b[0m\u001b[0m\n",
      "\u001b[1;31mAttributeError\u001b[0m: module 'plotly.express' has no attribute 'sunburst'"
     ]
    },
    {
     "ename": "",
     "evalue": "",
     "output_type": "error",
     "traceback": [
      "\u001b[1;31mRunning cells with 'Python 3.8.2 64-bit' requires ipykernel package.\n",
      "Run the following command to install 'ipykernel' into the Python environment. \n",
      "Command: 'c:/Users/cedricd/AppData/Local/Programs/Python/Python38/python.exe -m pip install ipykernel -U --user --force-reinstall'"
     ]
    }
   ],
   "source": [
    "# show figures of sunburst chart for each dasid\n",
    "\n",
    "#print the current version of plotly\n",
    "\n",
    "\n",
    "\n",
    "for dasid, sb_data in sunburst_chart_data_dasids.items():\n",
    "    fig = px.sunburst(\n",
    "        sb_data,\n",
    "        names='character',\n",
    "        parents='parent',\n",
    "        values='value',\n",
    "    )\n",
    "    fig.show()"
   ]
  }
 ],
 "metadata": {
  "kernelspec": {
   "display_name": "Python 3.8.2 64-bit",
   "language": "python",
   "name": "python3"
  },
  "language_info": {
   "codemirror_mode": {
    "name": "ipython",
    "version": 3
   },
   "file_extension": ".py",
   "mimetype": "text/x-python",
   "name": "python",
   "nbconvert_exporter": "python",
   "pygments_lexer": "ipython3",
   "version": "3.8.2"
  },
  "orig_nbformat": 4,
  "vscode": {
   "interpreter": {
    "hash": "8cdb6942a520967892d6a273730be25d7223b16b39c774525e74cfc9c036177c"
   }
  }
 },
 "nbformat": 4,
 "nbformat_minor": 2
}
